{
 "cells": [
  {
   "cell_type": "code",
   "execution_count": null,
   "metadata": {},
   "outputs": [],
   "source": [
    "DB = 'staging'"
   ]
  },
  {
   "cell_type": "code",
   "execution_count": 1,
   "metadata": {},
   "outputs": [],
   "source": [
    "import firebase_admin\n",
    "from firebase_admin import credentials\n",
    "from firebase_admin import firestore\n",
    "from firebase_admin import auth\n",
    "from firebase_admin import storage\n",
    "\n",
    "# Initialize Firebase Admin SDK: https://firebase.google.com/docs/admin/setup/#initialize_the_sdk_in_non-google_environments\n",
    "cred = credentials.Certificate('serviceAccountKey.json')\n",
    "if not firebase_admin._apps:\n",
    "    app = firebase_admin.initialize_app(cred)"
   ]
  },
  {
   "cell_type": "code",
   "execution_count": null,
   "metadata": {},
   "outputs": [],
   "source": [
    "db = firestore.client()"
   ]
  },
  {
   "cell_type": "code",
   "execution_count": 5,
   "metadata": {},
   "outputs": [],
   "source": [
    "# Create a new document in Firestore\n",
    "def create_document(collection, document_data):\n",
    "    db = firestore.client()\n",
    "    doc_ref = db.collection(collection).document()\n",
    "    doc_ref.set(document_data, merge=True)\n",
    "    print('Document created with ID:', doc_ref.id)\n",
    "\n",
    "# Usage example\n",
    "# create_document('users2', {'name': 'John Doe', 'email': 'johndoe@example.com'})"
   ]
  },
  {
   "cell_type": "code",
   "execution_count": 17,
   "metadata": {},
   "outputs": [],
   "source": [
    "import json\n",
    "\n",
    "with open('teams.json', 'r') as f:\n",
    "    teams = json.load(f)\n",
    "\n",
    "for team in teams:\n",
    "    create_document('teams', team)\n"
   ]
  },
  {
   "cell_type": "code",
   "execution_count": null,
   "metadata": {},
   "outputs": [],
   "source": [
    "# Read a document from Firestore\n",
    "def read_document(collection, document_id):\n",
    "    db = firestore.client()\n",
    "    doc_ref = db.collection(collection).document(document_id)\n",
    "    document = doc_ref.get()\n",
    "    if document.exists:\n",
    "        print('Document data:', document.to_dict())\n",
    "    else:\n",
    "        print('No such document!')\n",
    "\n",
    "# Usage example\n",
    "read_document('users', 'document_id123')"
   ]
  },
  {
   "cell_type": "code",
   "execution_count": null,
   "metadata": {},
   "outputs": [],
   "source": [
    "# Update a document in Firestore\n",
    "def update_document(collection, document_id, update_data):\n",
    "    db = firestore.client()\n",
    "    doc_ref = db.collection(collection).document(document_id)\n",
    "    doc_ref.update(update_data)\n",
    "    print('Document updated successfully!')\n",
    "\n",
    "# Usage example\n",
    "update_document('users', 'document_id123', {'name': 'Jane Smith'})"
   ]
  },
  {
   "cell_type": "code",
   "execution_count": null,
   "metadata": {},
   "outputs": [],
   "source": [
    "# Delete a document from Firestore\n",
    "def delete_document(collection, document_id):\n",
    "    db = firestore.client()\n",
    "    doc_ref = db.collection(collection).document(document_id)\n",
    "    doc_ref.delete()\n",
    "    print('Document deleted successfully!')\n",
    "\n",
    "# Usage example\n",
    "delete_document('users', 'document_id123')"
   ]
  },
  {
   "cell_type": "code",
   "execution_count": 18,
   "metadata": {},
   "outputs": [],
   "source": [
    "# Get all users from Firebase Authentication\n",
    "def get_all_users():\n",
    "    page = auth.list_users()  # Retrieve the first batch of users\n",
    "    while page:\n",
    "        for user in page.users:\n",
    "            # Process each user record\n",
    "            print(user.uid, user.email)  # Access user information\n",
    "        page = page.get_next_page()\n",
    "\n",
    "# Usage example\n",
    "get_all_users()"
   ]
  },
  {
   "cell_type": "code",
   "execution_count": 3,
   "metadata": {},
   "outputs": [],
   "source": [
    "def get_user():\n",
    "    user = auth.get_user_by_email('<insert email here>')\n",
    "    # set user claims\n",
    "    auth.set_custom_user_claims(user.uid, {'role': 'admin'})\n",
    "    # get user claims\n",
    "    user = auth.get_user_by_email('<insert email here>')\n",
    "    claims = user.custom_claims\n",
    "    print(claims)\n",
    "\n",
    "# Usage example\n",
    "get_user()"
   ]
  },
  {
   "cell_type": "code",
   "execution_count": null,
   "metadata": {},
   "outputs": [],
   "source": []
  }
 ],
 "metadata": {
  "kernelspec": {
   "display_name": "venv",
   "language": "python",
   "name": "python3"
  },
  "language_info": {
   "codemirror_mode": {
    "name": "ipython",
    "version": 3
   },
   "file_extension": ".py",
   "mimetype": "text/x-python",
   "name": "python",
   "nbconvert_exporter": "python",
   "pygments_lexer": "ipython3",
   "version": "3.10.12"
  }
 },
 "nbformat": 4,
 "nbformat_minor": 2
}
